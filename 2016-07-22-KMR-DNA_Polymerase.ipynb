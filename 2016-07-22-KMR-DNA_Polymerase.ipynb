{
 "cells": [
  {
   "cell_type": "code",
   "execution_count": 1,
   "metadata": {
    "collapsed": true
   },
   "outputs": [],
   "source": [
    "%matplotlib inline\n",
    "import numpy as np\n",
    "import matplotlib.pyplot as plt\n"
   ]
  },
  {
   "cell_type": "code",
   "execution_count": 2,
   "metadata": {
    "collapsed": true
   },
   "outputs": [],
   "source": [
    "def plot_template(template,primer=0,yt=1):\n",
    "    \"\"\"\n",
    "    plot template using a number line\n",
    "    \"\"\"\n",
    "    plt_min = template[0] - 2\n",
    "    plt_max = template[-1] + 2\n",
    "    plt.xlim((plt_min,plt_max))\n",
    "    plt.ylim((yt-1,2))\n",
    "    if primer==1:\n",
    "        plt_min = plt_min + 2 -0.2\n",
    "    x = np.arange(plt_min,plt_max,1)\n",
    "    y = yt*np.ones(len(x))\n",
    "    plt.plot(x,y,'-k',lw=2)\n",
    "    y2 = yt*np.ones(len(template))\n",
    "    plt.plot(template,y2,'.k',ms=30)\n",
    "    plt.axis('off')\n",
    "    \n"
   ]
  },
  {
   "cell_type": "code",
   "execution_count": 3,
   "metadata": {
    "collapsed": true
   },
   "outputs": [],
   "source": [
    "def reaction1(template, primer):\n",
    "    \"\"\"\n",
    "    Megaprimer synthesis\n",
    "    \"\"\"\n",
    "    temp = template[template > primer[0]]\n",
    "    return np.hstack((primer,temp))\n",
    "\n",
    "def reaction2(template, primer):\n",
    "    \"\"\"\n",
    "    Mutagenesis PCR\n",
    "    \"\"\"\n",
    "    temp = template[template<primer[0]]\n",
    "    return np.hstack((temp,primer))\n",
    "\n",
    "def set_primers(Nmut=4):\n",
    "    \"\"\"\n",
    "    Set up initial mixture elements\n",
    "    \"\"\"\n",
    "    primers = []\n",
    "    for i in range(0,Nmut):\n",
    "        ele = [i]\n",
    "        primers.append(ele) \n",
    "    primers = np.array(primers)\n",
    "    return primers\n",
    "\n"
   ]
  },
  {
   "cell_type": "code",
   "execution_count": 7,
   "metadata": {
    "collapsed": false
   },
   "outputs": [
    {
     "name": "stdout",
     "output_type": "stream",
     "text": [
      "[[0]\n",
      " [1]\n",
      " [2]\n",
      " [3]\n",
      " [4]\n",
      " [5]\n",
      " [6]\n",
      " [7]]\n",
      "2097152\n",
      "[  1.25952000e+05   8.01024000e+05   8.96904000e+05   2.48160000e+05\n",
      "   2.42400000e+04   8.64000000e+02   8.00000000e+00   0.00000000e+00]\n"
     ]
    }
   ],
   "source": [
    "Nmut = 8\n",
    "all_mixtures = []\n",
    "primers = set_primers(Nmut)\n",
    "initial_mixture = np.copy(primers)\n",
    "all_mixtures.append(initial_mixture)\n",
    "print initial_mixture\n",
    "\n",
    "def do_round(mixture, primers):\n",
    "    \"\"\"\n",
    "    Add initial_mixture elements one-by-one\n",
    "    to the current mixture and get new products\n",
    "    \"\"\"\n",
    "\n",
    "    first_reaction_products = []\n",
    "    for template in mixture:\n",
    "        for primer in primers:\n",
    "            first_reaction_products.append(reaction1(template,primer))\n",
    "            #print template, primer, reaction1(template,primer)\n",
    "    \n",
    "    second_reaction_products = []\n",
    "    for template in mixture:\n",
    "        for primer in first_reaction_products:\n",
    "            second_reaction_products.append(reaction2(template,primer))\n",
    "            #print template, primer, reaction2(template,primer)\n",
    "    \n",
    "    #print np.array(second_reaction_products)\n",
    "    return second_reaction_products\n",
    "\n",
    "def find_percentages(mixture, Nmut):\n",
    "    \"\"\"\n",
    "    Find proportion of mutations in mixture\n",
    "    \"\"\"\n",
    "    print len(mixture)\n",
    "    total = np.zeros(Nmut)\n",
    "    counter = 0\n",
    "    for ele in mixture:\n",
    "        counter += 1\n",
    "        #print ele, len(ele)\n",
    "        total[len(ele)-1] += 1\n",
    "    return total\n",
    "    \n",
    "\n",
    "nrounds = 3\n",
    "for i in np.arange(0,nrounds-1):\n",
    "    next_mixture = do_round(all_mixtures[-1], primers)\n",
    "    all_mixtures.append(next_mixture)\n",
    "\n",
    "\n",
    "print find_percentages(all_mixtures[-1],Nmut)\n"
   ]
  },
  {
   "cell_type": "code",
   "execution_count": null,
   "metadata": {
    "collapsed": true
   },
   "outputs": [],
   "source": []
  }
 ],
 "metadata": {
  "kernelspec": {
   "display_name": "Python 2",
   "language": "python",
   "name": "python2"
  },
  "language_info": {
   "codemirror_mode": {
    "name": "ipython",
    "version": 2
   },
   "file_extension": ".py",
   "mimetype": "text/x-python",
   "name": "python",
   "nbconvert_exporter": "python",
   "pygments_lexer": "ipython2",
   "version": "2.7.6"
  }
 },
 "nbformat": 4,
 "nbformat_minor": 0
}
